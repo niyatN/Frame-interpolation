{
 "cells": [
  {
   "cell_type": "code",
   "execution_count": 41,
   "metadata": {
    "collapsed": true
   },
   "outputs": [],
   "source": [
    "import cv2\n",
    "import os\n",
    "import matplotlib.pyplot as plt\n",
    "\n",
    "import scipy\n",
    "from scipy import signal\n",
    "import numpy as np\n",
    "from IPython.display import clear_output\n",
    "%matplotlib inline"
   ]
  },
  {
   "cell_type": "code",
   "execution_count": 56,
   "metadata": {
    "collapsed": true
   },
   "outputs": [],
   "source": [
    "def extract_features(image, vector_size=64):\n",
    "    try:\n",
    "        alg = cv2.KAZE_create()\n",
    "        kps = alg.detect(image)\n",
    "        kps = sorted(kps, key=lambda x: -x.response)[:vector_size]\n",
    "        kps, dsc = alg.compute(image, kps)\n",
    "        no_of_kps = len(kps)\n",
    "        needed_size = (vector_size * 64)\n",
    "        size = no_of_kps*64\n",
    "        if(no_of_kps!=0):\n",
    "#             print(dsc.size)\n",
    "            dsc = dsc.flatten()\n",
    "            if(size < needed_size):\n",
    "                dsc = np.concatenate([dsc, np.zeros(needed_size - size)])\n",
    "        else:\n",
    "            dsc = np.zeros(needed_size - size)\n",
    "#         print(dsc)\n",
    "#         print(dsc.size,'----------')\n",
    "    except cv2.error as e:\n",
    "        print('Error: ', e)\n",
    "        return None\n",
    "    return np.reshape(dsc, (1,-1))"
   ]
  },
  {
   "cell_type": "code",
   "execution_count": 57,
   "metadata": {},
   "outputs": [
    {
     "name": "stdout",
     "output_type": "stream",
     "text": [
      "[0.]\n",
      "[0.]\n",
      "[0.]\n",
      "[0.]\n",
      "[0.]\n",
      "[0.]\n",
      "[0.]\n",
      "[0.]\n",
      "[0.]\n",
      "[0.]\n",
      "[0.]\n",
      "[0.]\n",
      "[0.]\n",
      "[0.]\n",
      "[0.]\n",
      "[0.]\n",
      "[0.]\n",
      "[0.]\n",
      "[0.]\n",
      "[0.]\n",
      "[0.]\n",
      "[0.]\n",
      "[0.]\n",
      "[0.]\n",
      "[0.]\n",
      "[0.]\n",
      "[0.]\n",
      "[0.]\n",
      "640\n",
      "[3.16227764]\n",
      "640\n",
      "[4.08252462e-06]\n",
      "640\n",
      "[0.0015678]\n",
      "640\n",
      "[0.53622503]\n",
      "640\n",
      "[0.00268157]\n",
      "640\n",
      "[0.00484155]\n",
      "640\n",
      "[0.01467183]\n",
      "640\n",
      "[0.00271194]\n",
      "640\n",
      "[1.76470323e-05]\n",
      "640\n",
      "[0.]\n",
      "4096\n",
      "[7.63916921]\n",
      "4096\n",
      "[5.96210937]\n",
      "4096\n",
      "[0.98118964]\n",
      "4096\n",
      "[5.50557232]\n",
      "4096\n",
      "[1.25328328]\n",
      "4096\n",
      "[2.00104184]\n",
      "4096\n",
      "[0.33202864]\n",
      "4096\n",
      "[0.47028551]\n",
      "4096\n",
      "[1.35345306]\n",
      "4096\n",
      "[0.04149073]\n",
      "4096\n",
      "[6.87872781]\n",
      "4096\n",
      "[0.04144875]\n"
     ]
    }
   ],
   "source": [
    "cap = cv2.VideoCapture('./inputVideo/jump_input.mp4')\n",
    "success,prevFrame = cap.read()\n",
    "sizeOfFrame = prevFrame.size\n",
    "prev_dsc = extract_features(prevFrame)\n",
    "count = 0\n",
    "while(success and count<50 ):\n",
    "    success, curFrame = cap.read()\n",
    "    if(not success):\n",
    "        break\n",
    "    cur_dsc = extract_features(curFrame)\n",
    "    count+=1\n",
    "    img_dist = scipy.spatial.distance.cdist(prev_dsc,cur_dsc, 'euclidean').reshape(-1)\n",
    "    prevFrame = curFrame\n",
    "    prev_dsc = cur_dsc\n",
    "    print(img_dist)"
   ]
  },
  {
   "cell_type": "code",
   "execution_count": null,
   "metadata": {
    "collapsed": true
   },
   "outputs": [],
   "source": []
  },
  {
   "cell_type": "code",
   "execution_count": 47,
   "metadata": {
    "collapsed": true
   },
   "outputs": [],
   "source": [
    "a = np.array([[1,2,3], [4,5,6]])"
   ]
  },
  {
   "cell_type": "code",
   "execution_count": 50,
   "metadata": {},
   "outputs": [
    {
     "data": {
      "text/plain": [
       "array([[1, 2, 3, 4, 5, 6]])"
      ]
     },
     "execution_count": 50,
     "metadata": {},
     "output_type": "execute_result"
    }
   ],
   "source": [
    "np.reshape(a, (1,-1))"
   ]
  },
  {
   "cell_type": "code",
   "execution_count": null,
   "metadata": {
    "collapsed": true
   },
   "outputs": [],
   "source": []
  }
 ],
 "metadata": {
  "kernelspec": {
   "display_name": "Python 3",
   "language": "python",
   "name": "python3"
  },
  "language_info": {
   "codemirror_mode": {
    "name": "ipython",
    "version": 3
   },
   "file_extension": ".py",
   "mimetype": "text/x-python",
   "name": "python",
   "nbconvert_exporter": "python",
   "pygments_lexer": "ipython3",
   "version": "3.6.3"
  }
 },
 "nbformat": 4,
 "nbformat_minor": 2
}
